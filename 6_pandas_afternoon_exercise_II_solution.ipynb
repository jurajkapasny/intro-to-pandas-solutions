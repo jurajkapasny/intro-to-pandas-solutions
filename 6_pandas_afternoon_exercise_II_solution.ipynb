{
 "cells": [
  {
   "cell_type": "code",
   "execution_count": null,
   "id": "4d53abf5-0800-42fb-86f6-9e123d34053f",
   "metadata": {},
   "outputs": [],
   "source": [
    "import pandas as pd\n",
    "import numpy as np\n",
    "\n",
    "# Categories for books\n",
    "categories = ['Fiction', 'Non-Fiction', 'Sci-Fi', 'Biography', 'Children', 'Academic', 'Comics', 'Romance', 'Thriller']\n",
    "\n",
    "# Create a DataFrame\n",
    "data = {\n",
    "    'BookTitle': ['Book' + str(i) for i in range(1, 101)],\n",
    "    'Category': np.random.choice(categories, 100),\n",
    "    'UnitsSold': np.random.randint(1, 1000, 100),\n",
    "    'Price': np.random.uniform(5, 50, 100),\n",
    "    'Rating': np.random.uniform(1, 5, 100)\n",
    "}\n",
    "\n",
    "df = pd.DataFrame(data)"
   ]
  },
  {
   "cell_type": "markdown",
   "id": "90cb525a-6f55-4341-aed3-65d9bbbbdea8",
   "metadata": {},
   "source": [
    "- 'BookTitle': Titles for 100 books.\n",
    "- 'Category': The category of each book, randomly chosen from a predefined list of categories.\n",
    "- 'UnitsSold': The number of units sold for each book, randomly generated to be between 1 and 1000.\n",
    "- 'Price': The price of each book, randomly generated to be between $5 and $50.\n",
    "- 'Rating': The customer rating of each book, randomly generated to be between 1 and 5."
   ]
  },
  {
   "cell_type": "code",
   "execution_count": null,
   "id": "464e17f4-d86d-409e-af8f-ef5e660e94f1",
   "metadata": {},
   "outputs": [],
   "source": []
  },
  {
   "cell_type": "markdown",
   "id": "8ae9ae02-37ae-4984-9029-e6d8f9f37f01",
   "metadata": {},
   "source": [
    "### Task 1: Descriptive Statistics\n",
    "\n",
    "Use the describe() method to get descriptive statistics for the numerical columns. This will include the count, mean, standard deviation, minimum, 25%, 50%, 75%, and maximum values.\n"
   ]
  },
  {
   "cell_type": "code",
   "execution_count": null,
   "id": "7f180068-af89-4511-bc5c-23a6ddef8e3d",
   "metadata": {},
   "outputs": [],
   "source": [
    "df.describe() "
   ]
  },
  {
   "cell_type": "code",
   "execution_count": null,
   "id": "ed07496b-ba16-433d-a14a-f2dd2c6d919a",
   "metadata": {},
   "outputs": [],
   "source": []
  },
  {
   "cell_type": "code",
   "execution_count": null,
   "id": "156519aa-1985-45f9-8f17-3c9ce89ca7c9",
   "metadata": {},
   "outputs": [],
   "source": []
  },
  {
   "cell_type": "markdown",
   "id": "23b12592-6b70-47fd-9b10-5f266fc7fd49",
   "metadata": {},
   "source": [
    "### Task 2: Grouping and Aggregation\n",
    "\n",
    "Find the average of price and rating columns for each category."
   ]
  },
  {
   "cell_type": "code",
   "execution_count": null,
   "id": "d4e7621a-c1a9-4b16-9707-802df9ffed2f",
   "metadata": {},
   "outputs": [],
   "source": [
    "df.groupby('Category').mean()[['Price','Rating']]"
   ]
  },
  {
   "cell_type": "code",
   "execution_count": null,
   "id": "20930ded-71d2-45e2-a8d0-608a98d5fb4c",
   "metadata": {},
   "outputs": [],
   "source": []
  },
  {
   "cell_type": "code",
   "execution_count": null,
   "id": "1d46b36d-650a-4237-853c-f3e7d24caedd",
   "metadata": {},
   "outputs": [],
   "source": []
  },
  {
   "cell_type": "markdown",
   "id": "47c3ec72-2b9c-4cf6-989b-5f5fc7ba8adb",
   "metadata": {},
   "source": [
    "### Task 3: Correlation Analysis\n",
    "\n",
    "Find the correlation between different numerical columns in a dataset using the corr() method. Analyze the output and discuss what a positive, negative, or near-zero correlation coefficient could mean."
   ]
  },
  {
   "cell_type": "code",
   "execution_count": null,
   "id": "a227b988-81d2-4761-987a-b99d8aec6025",
   "metadata": {},
   "outputs": [],
   "source": [
    "df[['UnitsSold', 'Price', 'Rating']].corr() "
   ]
  },
  {
   "cell_type": "code",
   "execution_count": null,
   "id": "a6819973-6da3-4e62-b47c-35ea2dc21755",
   "metadata": {},
   "outputs": [],
   "source": []
  },
  {
   "cell_type": "code",
   "execution_count": null,
   "id": "4e91a234-77b1-4f61-bea8-2efa635d2081",
   "metadata": {},
   "outputs": [],
   "source": []
  },
  {
   "cell_type": "markdown",
   "id": "9825d35c-ef1a-4076-b23f-98d06e022444",
   "metadata": {},
   "source": [
    "### Task 4: Data Visualization\n",
    "\n",
    "Choose one or two numerical columns from a dataset and create a histogram for each."
   ]
  },
  {
   "cell_type": "code",
   "execution_count": null,
   "id": "accba812-2b07-4abc-a5b3-db1b0f5c275a",
   "metadata": {},
   "outputs": [],
   "source": [
    "df['Price'].plot(kind='hist', rwidth=0.8, bins=15) "
   ]
  },
  {
   "cell_type": "code",
   "execution_count": null,
   "id": "70fc55d8-cc16-4d1d-90da-91da5d850b5f",
   "metadata": {},
   "outputs": [],
   "source": [
    "df['Rating'].plot(kind='hist', rwidth=0.8, bins=15) "
   ]
  },
  {
   "cell_type": "code",
   "execution_count": null,
   "id": "7bc6b995-3901-48cb-83ee-eeb232597f18",
   "metadata": {},
   "outputs": [],
   "source": []
  },
  {
   "cell_type": "markdown",
   "id": "466184dc-71db-41b2-ae0c-3eccc9ed4f61",
   "metadata": {},
   "source": [
    "### Task 5: Value Counts\n",
    "\n",
    "Use the value_counts() to return the count of unique entries in that column. You can also normalize the output to get relative frequencies by setting parameter `normalize=True`.\n",
    "\n"
   ]
  },
  {
   "cell_type": "code",
   "execution_count": null,
   "id": "7ce9b433-2693-475c-a82a-14f40db9e855",
   "metadata": {},
   "outputs": [],
   "source": [
    "df['Category'].value_counts()"
   ]
  },
  {
   "cell_type": "code",
   "execution_count": null,
   "id": "a60b1704-8e2d-4e5e-9c7c-de4775f517cc",
   "metadata": {},
   "outputs": [],
   "source": []
  }
 ],
 "metadata": {
  "kernelspec": {
   "display_name": "Python 3 (ipykernel)",
   "language": "python",
   "name": "python3"
  },
  "language_info": {
   "codemirror_mode": {
    "name": "ipython",
    "version": 3
   },
   "file_extension": ".py",
   "mimetype": "text/x-python",
   "name": "python",
   "nbconvert_exporter": "python",
   "pygments_lexer": "ipython3",
   "version": "3.9.7"
  }
 },
 "nbformat": 4,
 "nbformat_minor": 5
}
